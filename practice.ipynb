{
 "cells": [
  {
   "cell_type": "code",
   "execution_count": 13,
   "metadata": {},
   "outputs": [
    {
     "name": "stdout",
     "output_type": "stream",
     "text": [
      "End of video.\n"
     ]
    }
   ],
   "source": [
    "import cv2\n",
    "\n",
    "tracking = False\n",
    "bbox = None\n",
    "tracker = None\n",
    "\n",
    "def select_object(event, x, y, flags, param):\n",
    "    global tracking, bbox, tracker\n",
    "    if event == cv2.EVENT_LBUTTONDOWN:\n",
    "        # Initialize bounding box\n",
    "        bbox = (x - 25, y - 25, 50, 50)  # Create a small box around the click\n",
    "        tracker = cv2.TrackerCSRT_create()  # Use CSRT tracker for accuracy\n",
    "        tracker.init(frame, bbox)\n",
    "        tracking = True\n",
    "video_path = \"horse.mp4\"\n",
    "cap = cv2.VideoCapture(video_path)\n",
    "\n",
    "if not cap.isOpened():\n",
    "    print(\"Error: Could not open video.\")\n",
    "    exit()\n",
    "\n",
    "# Set up the OpenCV window and callback\n",
    "cv2.namedWindow(\"Object Tracking\")\n",
    "cv2.setMouseCallback(\"Object Tracking\", select_object)\n",
    "\n",
    "while True:\n",
    "    ret, frame = cap.read()\n",
    "    if not ret:\n",
    "        print(\"End of video.\")\n",
    "        break\n",
    "\n",
    "    if tracking and bbox is not None:\n",
    "        # Update the tracker and draw the bounding box\n",
    "        success, bbox = tracker.update(frame)\n",
    "        if success:\n",
    "            x, y, w, h = [int(v) for v in bbox]\n",
    "            cv2.rectangle(frame, (x, y), (x + w, y + h), (255, 0, 0), 2)\n",
    "        else:\n",
    "            cv2.putText(frame, \"Tracking failed\", (20, 50), cv2.FONT_HERSHEY_SIMPLEX, 1, (0, 0, 255), 2)\n",
    "    cv2.imshow(\"Object Tracking\", frame)\n",
    "\n",
    "    if cv2.waitKey(30) & 0xFF == ord('q'):\n",
    "        break\n",
    "\n",
    "cap.release()\n",
    "cv2.destroyAllWindows()\n"
   ]
  }
 ],
 "metadata": {
  "kernelspec": {
   "display_name": "Python 3",
   "language": "python",
   "name": "python3"
  },
  "language_info": {
   "codemirror_mode": {
    "name": "ipython",
    "version": 3
   },
   "file_extension": ".py",
   "mimetype": "text/x-python",
   "name": "python",
   "nbconvert_exporter": "python",
   "pygments_lexer": "ipython3",
   "version": "3.11.4"
  }
 },
 "nbformat": 4,
 "nbformat_minor": 2
}
